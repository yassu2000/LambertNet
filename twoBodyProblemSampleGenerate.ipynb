{
 "cells": [
  {
   "cell_type": "markdown",
   "metadata": {},
   "source": [
    "### 2体問題の軌道サンプルを作る関数\n",
    "- 2体問題の軌道伝播をM本\n",
    "- それをランダムなtiからtjまでの時間に区切る\n",
    "- 初期位置・速度，終端位置・速度を出力する"
   ]
  },
  {
   "cell_type": "code",
   "execution_count": null,
   "metadata": {},
   "outputs": [],
   "source": [
    "# EOMの定義\n",
    "function twobody_with_sun!(dxdt, x, p, t)\n",
    "   # x = [x, y, z, vx, vy, vz]\n",
    "   # dx/dt\n",
    "   r = norm(x[1:3]) # x[1:3] = [x, y, z], つまりrは位置ベクトルのノルム\n",
    "   dxdt[1:3] = x[4:6] # 速度ベクトル\n",
    "   dxdt[4:6] = -ssd.GM[\"SUN\"] * x[1:3] / (r^3) # 万有引力の法則\n",
    "end\n",
    "\n",
    "# 2体問題による軌道伝播\n",
    "function propagation_twoBody(twobody_problem, r_sat_start, v_sat_start, T_start, T_end)\n",
    "   # 初期状態の定義\n",
    "   x0 = [r_sat_start; v_sat_start]\n",
    "\n",
    "   tspan = (T_start, T_end)\n",
    "\n",
    "   prob = ODEProblem(twobody_problem, x0, tspan)\n",
    "   sol = solve(prob, Tsit5(), reltol=1e-8, abstol=1e-8)\n",
    "   r_sat_end = sol.u[end][1:3]\n",
    "   v_sat_end = sol.u[end][4:6]\n",
    "   return r_sat_end, v_sat_end\n",
    "end\n",
    "\n",
    "# 2体問題による軌道伝播をM種類作成し、それぞれの軌道をランダムな時間t_iからt_jの時間で区切り、その初期位置・速度、終端位置・速度を出力\n",
    "using Random\n",
    "\n",
    "function generate_orbit_samples(M, twobody_problem, r_sat_start, v_sat_start, T_start, T_end)\n",
    "   # 初期位置・速度、終端位置・速度を保存する配列\n",
    "   initial_positions = []\n",
    "   initial_velocities = []\n",
    "   final_positions = []\n",
    "   final_velocities = []\n",
    "\n",
    "   for i in 1:M\n",
    "      # ランダムなtiからtjまでの時間を生成\n",
    "      t_i = rand(T_start:T_end)\n",
    "      t_j = rand(t_i:T_end)\n",
    "\n",
    "      # 軌道伝播を実行\n",
    "      r_sat_end, v_sat_end = propagation_twoBody(twobody_problem, r_sat_start, v_sat_start, t_i, t_j)\n",
    "\n",
    "      # 初期位置・速度、終端位置・速度を保存\n",
    "      push!(initial_positions, r_sat_start)\n",
    "      push!(initial_velocities, v_sat_start)\n",
    "      push!(final_positions, r_sat_end)\n",
    "      push!(final_velocities, v_sat_end)\n",
    "   end\n",
    "\n",
    "   return initial_positions, initial_velocities, final_positions, final_velocities\n",
    "end\n"
   ]
  }
 ],
 "metadata": {
  "kernelspec": {
   "display_name": "Julia 1.9.2",
   "language": "julia",
   "name": "julia-1.9"
  },
  "language_info": {
   "file_extension": ".jl",
   "mimetype": "application/julia",
   "name": "julia",
   "version": "1.9.2"
  }
 },
 "nbformat": 4,
 "nbformat_minor": 2
}
